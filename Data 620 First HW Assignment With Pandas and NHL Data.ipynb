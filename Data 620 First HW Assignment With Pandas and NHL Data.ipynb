{
 "cells": [
  {
   "cell_type": "code",
   "execution_count": 1,
   "metadata": {
    "collapsed": true
   },
   "outputs": [],
   "source": [
    "from graphlab import SGraph, Vertex, Edge, canvas"
   ]
  },
  {
   "cell_type": "code",
   "execution_count": 3,
   "metadata": {
    "collapsed": true
   },
   "outputs": [],
   "source": [
    "canvas.set_target('ipynb')"
   ]
  },
  {
   "cell_type": "code",
   "execution_count": 29,
   "metadata": {
    "collapsed": true
   },
   "outputs": [],
   "source": [
    "NHLN = SGraph()"
   ]
  },
  {
   "cell_type": "code",
   "execution_count": 41,
   "metadata": {
    "collapsed": false
   },
   "outputs": [],
   "source": [
    "import requests\n",
    "import pandas as pd\n",
    "import io\n",
    "import graphlab as gl\n",
    "url = 'https://raw.githubusercontent.com/john-grando/Masters/master/DATA620/Week1/Homework/NHLCaptainList.csv'\n",
    "s=requests.get(url).content\n",
    "df=pd.read_csv(io.StringIO(s.decode('utf-8')))\n",
    "verts = []\n",
    "nationlist = []"
   ]
  },
  {
   "cell_type": "code",
   "execution_count": 42,
   "metadata": {
    "collapsed": false
   },
   "outputs": [],
   "source": [
    "for index, row in df.iterrows():\n",
    "    nat = str(row['nat'])\n",
    "    player = str(row['player'])\n",
    "    verts.append(Vertex(nat))\n",
    "    nationlist.append(nat)\n",
    "    verts.append(Vertex(player))"
   ]
  },
  {
   "cell_type": "code",
   "execution_count": 43,
   "metadata": {
    "collapsed": true
   },
   "outputs": [],
   "source": [
    "NHLN = NHLN.add_vertices(verts)"
   ]
  },
  {
   "cell_type": "code",
   "execution_count": 44,
   "metadata": {
    "collapsed": true
   },
   "outputs": [],
   "source": [
    "for index, row in df.iterrows():\n",
    "    nat = str(row['nat'])\n",
    "    player = str(row['player'])\n",
    "    NHLN = NHLN.add_edges(Edge(nat,player))"
   ]
  },
  {
   "cell_type": "code",
   "execution_count": 45,
   "metadata": {
    "collapsed": false
   },
   "outputs": [
    {
     "data": {
      "application/javascript": [
       "$(\"head\").append($(\"<link/>\").attr({\n",
       "  rel:  \"stylesheet\",\n",
       "  type: \"text/css\",\n",
       "  href: \"//cdnjs.cloudflare.com/ajax/libs/font-awesome/4.1.0/css/font-awesome.min.css\"\n",
       "}));\n",
       "$(\"head\").append($(\"<link/>\").attr({\n",
       "  rel:  \"stylesheet\",\n",
       "  type: \"text/css\",\n",
       "  href: \"https://static.turi.com/products/graphlab-create/2.1/canvas/css/canvas.css\"\n",
       "}));\n",
       "\n",
       "            (function(){\n",
       "\n",
       "                var e = null;\n",
       "                if (typeof element == 'undefined') {\n",
       "                    var scripts = document.getElementsByTagName('script');\n",
       "                    var thisScriptTag = scripts[scripts.length-1];\n",
       "                    var parentDiv = thisScriptTag.parentNode;\n",
       "                    e = document.createElement('div');\n",
       "                    parentDiv.appendChild(e);\n",
       "                } else {\n",
       "                    e = element[0];\n",
       "                }\n",
       "\n",
       "                if (typeof requirejs !== 'undefined') {\n",
       "                    // disable load timeout; ipython_app.js is large and can take a while to load.\n",
       "                    requirejs.config({waitSeconds: 0});\n",
       "                }\n",
       "\n",
       "                require(['https://static.turi.com/products/graphlab-create/2.1/canvas/js/ipython_app.js'], function(IPythonApp){\n",
       "                    var app = new IPythonApp();\n",
       "                    app.attachView('sgraph','View', {\"edges_labels\": null, \"selected_variable\": {\"name\": [\"NHLN\"], \"view_file\": \"sgraph\", \"view_component\": \"View\", \"view_params\": {\"elabel_hover\": false, \"vertex_positions\": null, \"h_offset\": 0.0, \"node_size\": 300, \"ecolor\": [0.37, 0.33, 0.33], \"elabel\": null, \"arrows\": false, \"ewidth\": 1, \"vlabel\": \"id\", \"highlight_color\": [[0.69, 0.0, 0.498], [0.69, 0.0, 0.498], [0.69, 0.0, 0.498], [0.69, 0.0, 0.498], [0.69, 0.0, 0.498], [0.69, 0.0, 0.498], [0.69, 0.0, 0.498], [0.69, 0.0, 0.498], [0.69, 0.0, 0.498], [0.69, 0.0, 0.498], [0.69, 0.0, 0.498], [0.69, 0.0, 0.498], [0.69, 0.0, 0.498], [0.69, 0.0, 0.498], [0.69, 0.0, 0.498], [0.69, 0.0, 0.498], [0.69, 0.0, 0.498], [0.69, 0.0, 0.498], [0.69, 0.0, 0.498], [0.69, 0.0, 0.498], [0.69, 0.0, 0.498], [0.69, 0.0, 0.498], [0.69, 0.0, 0.498], [0.69, 0.0, 0.498], [0.69, 0.0, 0.498], [0.69, 0.0, 0.498], [0.69, 0.0, 0.498], [0.69, 0.0, 0.498], [0.69, 0.0, 0.498], [0.69, 0.0, 0.498]], \"vcolor\": [0.522, 0.741, 0.0], \"vlabel_hover\": false, \"highlight\": {\"CA\": [0.69, 0.0, 0.498], \"nan\": [0.69, 0.0, 0.498], \"US\": [0.69, 0.0, 0.498], \"SI\": [0.69, 0.0, 0.498], \"SU\": [0.69, 0.0, 0.498], \"CS\": [0.69, 0.0, 0.498], \"FI\": [0.69, 0.0, 0.498], \"SE\": [0.69, 0.0, 0.498]}, \"v_offset\": 0.03}, \"view_components\": [\"View\"], \"type\": \"SGraph\", \"descriptives_links\": {\"edges\": \"edges\", \"vertices\": \"vertices\"}, \"descriptives\": {\"edges\": 30, \"vertices\": 36}}, \"positions\": null, \"error_type\": 0, \"vertices\": [\"Claude Giroux\", \"Jamie Benn\", \"SI\", \"Derek MacKenzie\", \"Nick Foligno\", \"Blake Wheeler\", \"Joe Pavelski\", \"Jonathan Toews\", \"Henrik Zetterberg\", \"Henrik Sedin\", \"Alex Pietrangelo\", \"CS\", \"Sidney Crosby\", \"SE\", \"Brian Gionta\", \"CA\", \"Mike Fisher\", \"Ryan McDonagh\", \"US\", \"Ryan Getzlaf\", \"Max Pacioretty\", \"nan\", \"Steven Stamkos\", \"Shane Doan\", \"John Tavares\", \"Andy Greene\", \"Alex Ovechkin\", \"FI\", \"Erik Karlsson\", \"Mark Giordano\", \"Mikko Koivu\", \"SU\", \"Connor McDavid\", \"Gabriel Landeskog\", \"Zdeno Chara\", \"Anze Kopitar\"], \"vertices_labels\": [\"Claude Giroux\", \"Jamie Benn\", \"SI\", \"Derek MacKenzie\", \"Nick Foligno\", \"Blake Wheeler\", \"Joe Pavelski\", \"Jonathan Toews\", \"Henrik Zetterberg\", \"Henrik Sedin\", \"Alex Pietrangelo\", \"CS\", \"Sidney Crosby\", \"SE\", \"Brian Gionta\", \"CA\", \"Mike Fisher\", \"Ryan McDonagh\", \"US\", \"Ryan Getzlaf\", \"Max Pacioretty\", \"nan\", \"Steven Stamkos\", \"Shane Doan\", \"John Tavares\", \"Andy Greene\", \"Alex Ovechkin\", \"FI\", \"Erik Karlsson\", \"Mark Giordano\", \"Mikko Koivu\", \"SU\", \"Connor McDavid\", \"Gabriel Landeskog\", \"Zdeno Chara\", \"Anze Kopitar\"], \"edges\": [[\"SI\", \"Anze Kopitar\"], [\"CA\", \"Jamie Benn\"], [\"CA\", \"Claude Giroux\"], [\"CA\", \"Jonathan Toews\"], [\"CA\", \"Derek MacKenzie\"], [\"SE\", \"Henrik Zetterberg\"], [\"CA\", \"Sidney Crosby\"], [\"CA\", \"Alex Pietrangelo\"], [\"SE\", \"Henrik Sedin\"], [\"CA\", \"Ryan Getzlaf\"], [\"CA\", \"Mike Fisher\"], [\"CA\", \"Shane Doan\"], [\"CA\", \"Steven Stamkos\"], [\"CA\", \"Mark Giordano\"], [\"CA\", \"John Tavares\"], [\"SE\", \"Erik Karlsson\"], [\"CS\", \"Zdeno Chara\"], [\"SE\", \"Gabriel Landeskog\"], [\"CA\", \"Connor McDavid\"], [\"US\", \"Nick Foligno\"], [\"US\", \"Joe Pavelski\"], [\"US\", \"Blake Wheeler\"], [\"US\", \"Brian Gionta\"], [\"US\", \"Ryan McDonagh\"], [\"US\", \"Max Pacioretty\"], [\"US\", \"Andy Greene\"], [\"nan\", \"nan\"], [\"nan\", \"nan\"], [\"FI\", \"Mikko Koivu\"], [\"SU\", \"Alex Ovechkin\"]], \"ipython\": true, \"error_msg\": \"\"}, e);\n",
       "                });\n",
       "            })();\n",
       "        "
      ]
     },
     "metadata": {},
     "output_type": "display_data"
    }
   ],
   "source": [
    "NHLN.show(vlabel=\"id\", highlight=nationlist)"
   ]
  },
  {
   "cell_type": "code",
   "execution_count": null,
   "metadata": {
    "collapsed": true
   },
   "outputs": [],
   "source": []
  }
 ],
 "metadata": {
  "kernelspec": {
   "display_name": "Python 2",
   "language": "python",
   "name": "python2"
  },
  "language_info": {
   "codemirror_mode": {
    "name": "ipython",
    "version": 2
   },
   "file_extension": ".py",
   "mimetype": "text/x-python",
   "name": "python",
   "nbconvert_exporter": "python",
   "pygments_lexer": "ipython2",
   "version": "2.7.11"
  }
 },
 "nbformat": 4,
 "nbformat_minor": 0
}
