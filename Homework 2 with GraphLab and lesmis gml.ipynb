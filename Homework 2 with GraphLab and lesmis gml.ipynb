{
 "cells": [
  {
   "cell_type": "code",
   "execution_count": 1,
   "metadata": {
    "collapsed": false
   },
   "outputs": [],
   "source": [
    "import networkx as nx\n",
    "import matplotlib.pyplot as plot\n",
    "%matplotlib inline\n",
    "\n",
    "g = nx.read_gml('./Downloads/Data 620/lesmis/lesmis.gml')\n",
    "nodelist = [i for i in range(0, 500)]\n",
    "g = g.subgraph(nodelist)"
   ]
  },
  {
   "cell_type": "code",
   "execution_count": 2,
   "metadata": {
    "collapsed": false
   },
   "outputs": [
    {
     "name": "stdout",
     "output_type": "stream",
     "text": [
      "Diameter = 5\n"
     ]
    },
    {
     "data": {
      "text/html": [
       "<div>\n",
       "<table border=\"1\" class=\"dataframe\">\n",
       "  <thead>\n",
       "    <tr style=\"text-align: right;\">\n",
       "      <th></th>\n",
       "      <th>node</th>\n",
       "      <th>degree centrality</th>\n",
       "    </tr>\n",
       "  </thead>\n",
       "  <tbody>\n",
       "    <tr>\n",
       "      <th>0</th>\n",
       "      <td>11</td>\n",
       "      <td>0.473684</td>\n",
       "    </tr>\n",
       "    <tr>\n",
       "      <th>1</th>\n",
       "      <td>48</td>\n",
       "      <td>0.289474</td>\n",
       "    </tr>\n",
       "    <tr>\n",
       "      <th>2</th>\n",
       "      <td>55</td>\n",
       "      <td>0.250000</td>\n",
       "    </tr>\n",
       "    <tr>\n",
       "      <th>3</th>\n",
       "      <td>27</td>\n",
       "      <td>0.223684</td>\n",
       "    </tr>\n",
       "    <tr>\n",
       "      <th>4</th>\n",
       "      <td>25</td>\n",
       "      <td>0.210526</td>\n",
       "    </tr>\n",
       "    <tr>\n",
       "      <th>5</th>\n",
       "      <td>23</td>\n",
       "      <td>0.197368</td>\n",
       "    </tr>\n",
       "    <tr>\n",
       "      <th>6</th>\n",
       "      <td>58</td>\n",
       "      <td>0.197368</td>\n",
       "    </tr>\n",
       "    <tr>\n",
       "      <th>7</th>\n",
       "      <td>62</td>\n",
       "      <td>0.171053</td>\n",
       "    </tr>\n",
       "    <tr>\n",
       "      <th>8</th>\n",
       "      <td>64</td>\n",
       "      <td>0.171053</td>\n",
       "    </tr>\n",
       "    <tr>\n",
       "      <th>9</th>\n",
       "      <td>63</td>\n",
       "      <td>0.157895</td>\n",
       "    </tr>\n",
       "    <tr>\n",
       "      <th>10</th>\n",
       "      <td>65</td>\n",
       "      <td>0.157895</td>\n",
       "    </tr>\n",
       "  </tbody>\n",
       "</table>\n",
       "</div>"
      ],
      "text/plain": [
       "    node  degree centrality\n",
       "0     11           0.473684\n",
       "1     48           0.289474\n",
       "2     55           0.250000\n",
       "3     27           0.223684\n",
       "4     25           0.210526\n",
       "5     23           0.197368\n",
       "6     58           0.197368\n",
       "7     62           0.171053\n",
       "8     64           0.171053\n",
       "9     63           0.157895\n",
       "10    65           0.157895"
      ]
     },
     "metadata": {},
     "output_type": "display_data"
    },
    {
     "name": "stdout",
     "output_type": "stream",
     "text": [
      "None\n"
     ]
    }
   ],
   "source": [
    "import pandas as pd\n",
    "from IPython.display import display\n",
    "#calcualte diameter.  We must pick a subset that is entirely connected and check that diameter.  \n",
    "#We will use the biggest network\n",
    "bn = sorted(nx.connected_components(g), key=len, reverse=True)[0]\n",
    "g = g.subgraph(bn)\n",
    "\n",
    "#Diameter of largest network\n",
    "print \"Diameter = \" + str(nx.diameter(g))\n",
    "#Degrees of centrality for top ten nodes.  The first number in each pair is the node number and the second number\n",
    "#is the normalized value which is obtained by dividing by the maximum possible degree in a simple graph n-1 \n",
    "#where n is the number of nodes in G.\n",
    "nodes = []\n",
    "dcentrality = []\n",
    "for i, j in sorted(nx.degree_centrality(g).iteritems(), key=lambda(k, v): (-v, k))[0:11]:\n",
    "    nodes.append(i)\n",
    "    dcentrality.append(j)\n",
    "d = {\"node\":nodes, \"degree centrality\": dcentrality}\n",
    "data = pd.DataFrame(d)\n",
    "print display(data[[\"node\",\"degree centrality\"]])"
   ]
  },
  {
   "cell_type": "code",
   "execution_count": 3,
   "metadata": {
    "collapsed": false
   },
   "outputs": [],
   "source": [
    "power_nodes = g.nodes()\n",
    "power_edges = g.edges()"
   ]
  },
  {
   "cell_type": "code",
   "execution_count": 4,
   "metadata": {
    "collapsed": false
   },
   "outputs": [
    {
     "name": "stdout",
     "output_type": "stream",
     "text": [
      "This non-commercial license of GraphLab Create for academic use is assigned to ken.markus@spsmail.cuny.edu and will expire on June 06, 2018.\n"
     ]
    },
    {
     "name": "stderr",
     "output_type": "stream",
     "text": [
      "[INFO] graphlab.cython.cy_server: GraphLab Create v2.1 started. Logging: /tmp/graphlab_server_1497793655.log\n"
     ]
    },
    {
     "data": {
      "application/javascript": [
       "$(\"head\").append($(\"<link/>\").attr({\n",
       "  rel:  \"stylesheet\",\n",
       "  type: \"text/css\",\n",
       "  href: \"//cdnjs.cloudflare.com/ajax/libs/font-awesome/4.1.0/css/font-awesome.min.css\"\n",
       "}));\n",
       "$(\"head\").append($(\"<link/>\").attr({\n",
       "  rel:  \"stylesheet\",\n",
       "  type: \"text/css\",\n",
       "  href: \"https://static.turi.com/products/graphlab-create/2.1/canvas/css/canvas.css\"\n",
       "}));\n",
       "\n",
       "            (function(){\n",
       "\n",
       "                var e = null;\n",
       "                if (typeof element == 'undefined') {\n",
       "                    var scripts = document.getElementsByTagName('script');\n",
       "                    var thisScriptTag = scripts[scripts.length-1];\n",
       "                    var parentDiv = thisScriptTag.parentNode;\n",
       "                    e = document.createElement('div');\n",
       "                    parentDiv.appendChild(e);\n",
       "                } else {\n",
       "                    e = element[0];\n",
       "                }\n",
       "\n",
       "                if (typeof requirejs !== 'undefined') {\n",
       "                    // disable load timeout; ipython_app.js is large and can take a while to load.\n",
       "                    requirejs.config({waitSeconds: 0});\n",
       "                }\n",
       "\n",
       "                require(['https://static.turi.com/products/graphlab-create/2.1/canvas/js/ipython_app.js'], function(IPythonApp){\n",
       "                    var app = new IPythonApp();\n",
       "                    app.attachView('sgraph','View', {\"edges_labels\": null, \"selected_variable\": {\"name\": [\"powergraph\"], \"view_file\": \"sgraph\", \"view_component\": \"View\", \"view_params\": {\"elabel_hover\": false, \"vertex_positions\": null, \"h_offset\": 0.0, \"node_size\": 300, \"ecolor\": [0.37, 0.33, 0.33], \"elabel\": null, \"arrows\": false, \"ewidth\": 1, \"vlabel\": \"id\", \"highlight_color\": [[0.69, 0.0, 0.498], [0.69, 0.0, 0.498], [0.69, 0.0, 0.498], [0.69, 0.0, 0.498], [0.69, 0.0, 0.498], [0.69, 0.0, 0.498], [0.69, 0.0, 0.498], [0.69, 0.0, 0.498], [0.69, 0.0, 0.498], [0.69, 0.0, 0.498], [0.69, 0.0, 0.498]], \"vcolor\": [0.522, 0.741, 0.0], \"vlabel_hover\": false, \"highlight\": {\"64\": [0.69, 0.0, 0.498], \"65\": [0.69, 0.0, 0.498], \"11\": [0.69, 0.0, 0.498], \"48\": [0.69, 0.0, 0.498], \"55\": [0.69, 0.0, 0.498], \"23\": [0.69, 0.0, 0.498], \"25\": [0.69, 0.0, 0.498], \"58\": [0.69, 0.0, 0.498], \"27\": [0.69, 0.0, 0.498], \"62\": [0.69, 0.0, 0.498], \"63\": [0.69, 0.0, 0.498]}, \"v_offset\": 0.03}, \"view_components\": [\"View\"], \"type\": \"SGraph\", \"descriptives_links\": {\"edges\": \"edges\", \"vertices\": \"vertices\"}, \"descriptives\": {\"edges\": 254, \"vertices\": 77}}, \"positions\": null, \"error_type\": 0, \"vertices\": [73, 10, 8, 5, 47, 68, 33, 29, 70, 27, 50, 52, 7, 76, 67, 30, 65, 58, 63, 16, 34, 36, 23, 21, 56, 49, 61, 62, 15, 18, 37, 0, 43, 40, 38, 75, 13, 2, 35, 31, 26, 53, 48, 59, 46, 74, 72, 69, 9, 71, 51, 28, 32, 6, 54, 3, 25, 14, 12, 45, 64, 1, 60, 20, 19, 42, 41, 39, 57, 11, 66, 17, 4, 24, 22, 55, 44], \"vertices_labels\": [73, 10, 8, 5, 47, 68, 33, 29, 70, 27, 50, 52, 7, 76, 67, 30, 65, 58, 63, 16, 34, 36, 23, 21, 56, 49, 61, 62, 15, 18, 37, 0, 43, 40, 38, 75, 13, 2, 35, 31, 26, 53, 48, 59, 46, 74, 72, 69, 9, 71, 51, 28, 32, 6, 54, 3, 25, 14, 12, 45, 64, 1, 60, 20, 19, 42, 41, 39, 57, 11, 66, 17, 4, 24, 22, 55, 44], \"edges\": [[27, 33], [27, 68], [27, 70], [27, 29], [68, 70], [27, 58], [29, 34], [29, 36], [27, 43], [29, 37], [29, 38], [27, 48], [27, 31], [29, 35], [47, 48], [68, 75], [70, 75], [27, 69], [27, 71], [27, 72], [27, 28], [68, 69], [68, 71], [70, 71], [73, 74], [10, 11], [23, 27], [23, 29], [49, 50], [58, 70], [16, 21], [16, 23], [21, 23], [23, 30], [34, 36], [49, 56], [58, 65], [58, 76], [58, 63], [63, 65], [63, 76], [65, 76], [16, 18], [34, 37], [34, 38], [36, 37], [36, 38], [58, 61], [58, 62], [16, 26], [23, 31], [30, 31], [34, 35], [58, 59], [49, 51], [23, 25], [49, 54], [16, 19], [16, 20], [58, 64], [58, 60], [63, 64], [16, 55], [16, 17], [16, 22], [21, 22], [23, 24], [49, 55], [58, 66], [63, 66], [65, 66], [0, 5], [0, 7], [0, 8], [18, 21], [18, 23], [61, 65], [61, 63], [62, 65], [62, 76], [62, 63], [37, 38], [61, 62], [0, 2], [0, 6], [0, 9], [0, 3], [0, 1], [18, 19], [18, 20], [61, 64], [62, 64], [0, 4], [0, 11], [18, 22], [61, 66], [62, 66], [26, 27], [46, 47], [48, 68], [48, 73], [26, 49], [35, 36], [48, 58], [48, 63], [48, 65], [48, 76], [59, 65], [59, 63], [26, 43], [35, 37], [35, 38], [48, 61], [48, 62], [59, 61], [59, 62], [48, 59], [48, 75], [26, 72], [26, 51], [48, 69], [48, 71], [48, 74], [2, 3], [26, 54], [48, 60], [48, 64], [59, 64], [59, 60], [2, 11], [26, 55], [48, 55], [48, 57], [48, 66], [59, 66], [51, 52], [69, 70], [51, 53], [69, 75], [71, 75], [69, 71], [28, 45], [51, 54], [28, 44], [51, 55], [25, 68], [25, 70], [25, 27], [12, 23], [25, 40], [25, 48], [25, 75], [25, 26], [25, 71], [25, 69], [25, 39], [25, 41], [25, 42], [3, 11], [25, 55], [54, 55], [39, 52], [41, 68], [41, 70], [19, 21], [19, 23], [20, 21], [20, 23], [60, 65], [60, 63], [64, 65], [64, 76], [41, 62], [60, 61], [60, 62], [41, 75], [41, 69], [41, 71], [19, 20], [41, 42], [60, 64], [19, 22], [20, 22], [39, 55], [41, 55], [41, 57], [60, 66], [64, 66], [11, 27], [11, 29], [11, 33], [11, 68], [11, 70], [24, 68], [24, 70], [24, 50], [24, 27], [11, 23], [11, 34], [11, 36], [11, 49], [11, 58], [17, 21], [17, 23], [22, 23], [55, 65], [55, 56], [55, 58], [55, 63], [57, 65], [57, 67], [57, 58], [57, 63], [66, 76], [11, 15], [11, 37], [11, 38], [11, 43], [17, 18], [55, 61], [55, 62], [57, 61], [57, 62], [11, 13], [11, 26], [11, 31], [11, 35], [11, 48], [24, 26], [55, 59], [57, 59], [11, 28], [11, 32], [11, 51], [11, 69], [11, 71], [11, 72], [24, 69], [11, 12], [11, 14], [11, 25], [24, 25], [11, 64], [17, 19], [17, 20], [24, 41], [24, 42], [55, 64], [57, 64], [11, 24], [11, 44], [11, 55], [17, 22], [55, 57]], \"ipython\": true, \"error_msg\": \"\"}, e);\n",
       "                });\n",
       "            })();\n",
       "        "
      ]
     },
     "metadata": {},
     "output_type": "display_data"
    }
   ],
   "source": [
    "from graphlab import SGraph, Vertex, Edge, canvas\n",
    "canvas.set_target('ipynb')\n",
    "powergraph = SGraph()\n",
    "nodelist = []\n",
    "for i in power_nodes:\n",
    "    nodelist.append(Vertex(i))\n",
    "powergraph = powergraph.add_vertices(nodelist)\n",
    "for i, j in power_edges:\n",
    "    powergraph = powergraph.add_edges(Edge(i,j))\n",
    "#Graph top ten centrality nodes\n",
    "highlightlist = data['node'].tolist()\n",
    "powergraph.show(vlabel='id', highlight=highlightlist)"
   ]
  },
  {
   "cell_type": "code",
   "execution_count": 5,
   "metadata": {
    "collapsed": false
   },
   "outputs": [
    {
     "data": {
      "text/html": [
       "<div>\n",
       "<table border=\"1\" class=\"dataframe\">\n",
       "  <thead>\n",
       "    <tr style=\"text-align: right;\">\n",
       "      <th></th>\n",
       "      <th>node</th>\n",
       "      <th>closeness</th>\n",
       "    </tr>\n",
       "  </thead>\n",
       "  <tbody>\n",
       "    <tr>\n",
       "      <th>0</th>\n",
       "      <td>11</td>\n",
       "      <td>0.644068</td>\n",
       "    </tr>\n",
       "    <tr>\n",
       "      <th>1</th>\n",
       "      <td>55</td>\n",
       "      <td>0.531469</td>\n",
       "    </tr>\n",
       "    <tr>\n",
       "      <th>2</th>\n",
       "      <td>25</td>\n",
       "      <td>0.517007</td>\n",
       "    </tr>\n",
       "    <tr>\n",
       "      <th>3</th>\n",
       "      <td>27</td>\n",
       "      <td>0.517007</td>\n",
       "    </tr>\n",
       "    <tr>\n",
       "      <th>4</th>\n",
       "      <td>48</td>\n",
       "      <td>0.513514</td>\n",
       "    </tr>\n",
       "    <tr>\n",
       "      <th>5</th>\n",
       "      <td>58</td>\n",
       "      <td>0.481013</td>\n",
       "    </tr>\n",
       "    <tr>\n",
       "      <th>6</th>\n",
       "      <td>26</td>\n",
       "      <td>0.477987</td>\n",
       "    </tr>\n",
       "    <tr>\n",
       "      <th>7</th>\n",
       "      <td>64</td>\n",
       "      <td>0.475000</td>\n",
       "    </tr>\n",
       "    <tr>\n",
       "      <th>8</th>\n",
       "      <td>68</td>\n",
       "      <td>0.463415</td>\n",
       "    </tr>\n",
       "    <tr>\n",
       "      <th>9</th>\n",
       "      <td>69</td>\n",
       "      <td>0.463415</td>\n",
       "    </tr>\n",
       "    <tr>\n",
       "      <th>10</th>\n",
       "      <td>23</td>\n",
       "      <td>0.460606</td>\n",
       "    </tr>\n",
       "  </tbody>\n",
       "</table>\n",
       "</div>"
      ],
      "text/plain": [
       "    node  closeness\n",
       "0     11   0.644068\n",
       "1     55   0.531469\n",
       "2     25   0.517007\n",
       "3     27   0.517007\n",
       "4     48   0.513514\n",
       "5     58   0.481013\n",
       "6     26   0.477987\n",
       "7     64   0.475000\n",
       "8     68   0.463415\n",
       "9     69   0.463415\n",
       "10    23   0.460606"
      ]
     },
     "metadata": {},
     "output_type": "display_data"
    },
    {
     "name": "stdout",
     "output_type": "stream",
     "text": [
      "None\n"
     ]
    }
   ],
   "source": [
    "#Check closeness centrality\n",
    "nodes = []\n",
    "closeness = []\n",
    "for i, j in sorted(nx.closeness_centrality(g).iteritems(), key=lambda(k, v): (-v, k))[0:11]:\n",
    "    nodes.append(i)\n",
    "    closeness.append(j)\n",
    "d = {\"node\":nodes, \"closeness\": closeness}\n",
    "data = pd.DataFrame(d)\n",
    "print display(data[[\"node\",\"closeness\"]])"
   ]
  },
  {
   "cell_type": "code",
   "execution_count": 6,
   "metadata": {
    "collapsed": false
   },
   "outputs": [
    {
     "data": {
      "application/javascript": [
       "$(\"head\").append($(\"<link/>\").attr({\n",
       "  rel:  \"stylesheet\",\n",
       "  type: \"text/css\",\n",
       "  href: \"//cdnjs.cloudflare.com/ajax/libs/font-awesome/4.1.0/css/font-awesome.min.css\"\n",
       "}));\n",
       "$(\"head\").append($(\"<link/>\").attr({\n",
       "  rel:  \"stylesheet\",\n",
       "  type: \"text/css\",\n",
       "  href: \"https://static.turi.com/products/graphlab-create/2.1/canvas/css/canvas.css\"\n",
       "}));\n",
       "\n",
       "            (function(){\n",
       "\n",
       "                var e = null;\n",
       "                if (typeof element == 'undefined') {\n",
       "                    var scripts = document.getElementsByTagName('script');\n",
       "                    var thisScriptTag = scripts[scripts.length-1];\n",
       "                    var parentDiv = thisScriptTag.parentNode;\n",
       "                    e = document.createElement('div');\n",
       "                    parentDiv.appendChild(e);\n",
       "                } else {\n",
       "                    e = element[0];\n",
       "                }\n",
       "\n",
       "                if (typeof requirejs !== 'undefined') {\n",
       "                    // disable load timeout; ipython_app.js is large and can take a while to load.\n",
       "                    requirejs.config({waitSeconds: 0});\n",
       "                }\n",
       "\n",
       "                require(['https://static.turi.com/products/graphlab-create/2.1/canvas/js/ipython_app.js'], function(IPythonApp){\n",
       "                    var app = new IPythonApp();\n",
       "                    app.attachView('sgraph','View', {\"edges_labels\": null, \"selected_variable\": {\"name\": [\"powergraph\"], \"view_file\": \"sgraph\", \"view_component\": \"View\", \"view_params\": {\"elabel_hover\": false, \"vertex_positions\": null, \"h_offset\": 0.0, \"node_size\": 300, \"ecolor\": [0.37, 0.33, 0.33], \"elabel\": null, \"arrows\": false, \"ewidth\": 1, \"vlabel\": \"id\", \"highlight_color\": [[0.69, 0.0, 0.498], [0.69, 0.0, 0.498], [0.69, 0.0, 0.498], [0.69, 0.0, 0.498], [0.69, 0.0, 0.498], [0.69, 0.0, 0.498], [0.69, 0.0, 0.498], [0.69, 0.0, 0.498], [0.69, 0.0, 0.498], [0.69, 0.0, 0.498], [0.69, 0.0, 0.498]], \"vcolor\": [0.522, 0.741, 0.0], \"vlabel_hover\": false, \"highlight\": {\"64\": [0.69, 0.0, 0.498], \"68\": [0.69, 0.0, 0.498], \"69\": [0.69, 0.0, 0.498], \"11\": [0.69, 0.0, 0.498], \"48\": [0.69, 0.0, 0.498], \"55\": [0.69, 0.0, 0.498], \"23\": [0.69, 0.0, 0.498], \"25\": [0.69, 0.0, 0.498], \"58\": [0.69, 0.0, 0.498], \"27\": [0.69, 0.0, 0.498], \"26\": [0.69, 0.0, 0.498]}, \"v_offset\": 0.03}, \"view_components\": [\"View\"], \"type\": \"SGraph\", \"descriptives_links\": {\"edges\": \"edges\", \"vertices\": \"vertices\"}, \"descriptives\": {\"edges\": 254, \"vertices\": 77}}, \"positions\": null, \"error_type\": 0, \"vertices\": [73, 10, 8, 5, 47, 68, 33, 29, 70, 27, 50, 52, 7, 76, 67, 30, 65, 58, 63, 16, 34, 36, 23, 21, 56, 49, 61, 62, 15, 18, 37, 0, 43, 40, 38, 75, 13, 2, 35, 31, 26, 53, 48, 59, 46, 74, 72, 69, 9, 71, 51, 28, 32, 6, 54, 3, 25, 14, 12, 45, 64, 1, 60, 20, 19, 42, 41, 39, 57, 11, 66, 17, 4, 24, 22, 55, 44], \"vertices_labels\": [73, 10, 8, 5, 47, 68, 33, 29, 70, 27, 50, 52, 7, 76, 67, 30, 65, 58, 63, 16, 34, 36, 23, 21, 56, 49, 61, 62, 15, 18, 37, 0, 43, 40, 38, 75, 13, 2, 35, 31, 26, 53, 48, 59, 46, 74, 72, 69, 9, 71, 51, 28, 32, 6, 54, 3, 25, 14, 12, 45, 64, 1, 60, 20, 19, 42, 41, 39, 57, 11, 66, 17, 4, 24, 22, 55, 44], \"edges\": [[27, 33], [27, 68], [27, 70], [27, 29], [68, 70], [27, 58], [29, 34], [29, 36], [27, 43], [29, 37], [29, 38], [27, 48], [27, 31], [29, 35], [47, 48], [68, 75], [70, 75], [27, 69], [27, 71], [27, 72], [27, 28], [68, 69], [68, 71], [70, 71], [73, 74], [10, 11], [23, 27], [23, 29], [49, 50], [58, 70], [16, 21], [16, 23], [21, 23], [23, 30], [34, 36], [49, 56], [58, 65], [58, 76], [58, 63], [63, 65], [63, 76], [65, 76], [16, 18], [34, 37], [34, 38], [36, 37], [36, 38], [58, 61], [58, 62], [16, 26], [23, 31], [30, 31], [34, 35], [58, 59], [49, 51], [23, 25], [49, 54], [16, 19], [16, 20], [58, 64], [58, 60], [63, 64], [16, 55], [16, 17], [16, 22], [21, 22], [23, 24], [49, 55], [58, 66], [63, 66], [65, 66], [0, 5], [0, 7], [0, 8], [18, 21], [18, 23], [61, 65], [61, 63], [62, 65], [62, 76], [62, 63], [37, 38], [61, 62], [0, 2], [0, 6], [0, 9], [0, 3], [0, 1], [18, 19], [18, 20], [61, 64], [62, 64], [0, 4], [0, 11], [18, 22], [61, 66], [62, 66], [26, 27], [46, 47], [48, 68], [48, 73], [26, 49], [35, 36], [48, 58], [48, 63], [48, 65], [48, 76], [59, 65], [59, 63], [26, 43], [35, 37], [35, 38], [48, 61], [48, 62], [59, 61], [59, 62], [48, 59], [48, 75], [26, 72], [26, 51], [48, 69], [48, 71], [48, 74], [2, 3], [26, 54], [48, 60], [48, 64], [59, 64], [59, 60], [2, 11], [26, 55], [48, 55], [48, 57], [48, 66], [59, 66], [51, 52], [69, 70], [51, 53], [69, 75], [71, 75], [69, 71], [28, 45], [51, 54], [28, 44], [51, 55], [25, 68], [25, 70], [25, 27], [12, 23], [25, 40], [25, 48], [25, 75], [25, 26], [25, 71], [25, 69], [25, 39], [25, 41], [25, 42], [3, 11], [25, 55], [54, 55], [39, 52], [41, 68], [41, 70], [19, 21], [19, 23], [20, 21], [20, 23], [60, 65], [60, 63], [64, 65], [64, 76], [41, 62], [60, 61], [60, 62], [41, 75], [41, 69], [41, 71], [19, 20], [41, 42], [60, 64], [19, 22], [20, 22], [39, 55], [41, 55], [41, 57], [60, 66], [64, 66], [11, 27], [11, 29], [11, 33], [11, 68], [11, 70], [24, 68], [24, 70], [24, 50], [24, 27], [11, 23], [11, 34], [11, 36], [11, 49], [11, 58], [17, 21], [17, 23], [22, 23], [55, 65], [55, 56], [55, 58], [55, 63], [57, 65], [57, 67], [57, 58], [57, 63], [66, 76], [11, 15], [11, 37], [11, 38], [11, 43], [17, 18], [55, 61], [55, 62], [57, 61], [57, 62], [11, 13], [11, 26], [11, 31], [11, 35], [11, 48], [24, 26], [55, 59], [57, 59], [11, 28], [11, 32], [11, 51], [11, 69], [11, 71], [11, 72], [24, 69], [11, 12], [11, 14], [11, 25], [24, 25], [11, 64], [17, 19], [17, 20], [24, 41], [24, 42], [55, 64], [57, 64], [11, 24], [11, 44], [11, 55], [17, 22], [55, 57]], \"ipython\": true, \"error_msg\": \"\"}, e);\n",
       "                });\n",
       "            })();\n",
       "        "
      ]
     },
     "metadata": {},
     "output_type": "display_data"
    }
   ],
   "source": [
    "#Graph top ten closeness nodes\n",
    "highlightlist = data['node'].tolist()\n",
    "powergraph.show(vlabel='id', highlight=highlightlist)"
   ]
  },
  {
   "cell_type": "code",
   "execution_count": 7,
   "metadata": {
    "collapsed": false
   },
   "outputs": [
    {
     "data": {
      "text/html": [
       "<div>\n",
       "<table border=\"1\" class=\"dataframe\">\n",
       "  <thead>\n",
       "    <tr style=\"text-align: right;\">\n",
       "      <th></th>\n",
       "      <th>node</th>\n",
       "      <th>betweenness</th>\n",
       "    </tr>\n",
       "  </thead>\n",
       "  <tbody>\n",
       "    <tr>\n",
       "      <th>0</th>\n",
       "      <td>11</td>\n",
       "      <td>0.569989</td>\n",
       "    </tr>\n",
       "    <tr>\n",
       "      <th>1</th>\n",
       "      <td>0</td>\n",
       "      <td>0.176842</td>\n",
       "    </tr>\n",
       "    <tr>\n",
       "      <th>2</th>\n",
       "      <td>48</td>\n",
       "      <td>0.165113</td>\n",
       "    </tr>\n",
       "    <tr>\n",
       "      <th>3</th>\n",
       "      <td>55</td>\n",
       "      <td>0.132032</td>\n",
       "    </tr>\n",
       "    <tr>\n",
       "      <th>4</th>\n",
       "      <td>23</td>\n",
       "      <td>0.129645</td>\n",
       "    </tr>\n",
       "    <tr>\n",
       "      <th>5</th>\n",
       "      <td>25</td>\n",
       "      <td>0.074901</td>\n",
       "    </tr>\n",
       "    <tr>\n",
       "      <th>6</th>\n",
       "      <td>27</td>\n",
       "      <td>0.054332</td>\n",
       "    </tr>\n",
       "    <tr>\n",
       "      <th>7</th>\n",
       "      <td>51</td>\n",
       "      <td>0.047599</td>\n",
       "    </tr>\n",
       "    <tr>\n",
       "      <th>8</th>\n",
       "      <td>58</td>\n",
       "      <td>0.042553</td>\n",
       "    </tr>\n",
       "    <tr>\n",
       "      <th>9</th>\n",
       "      <td>16</td>\n",
       "      <td>0.040629</td>\n",
       "    </tr>\n",
       "    <tr>\n",
       "      <th>10</th>\n",
       "      <td>64</td>\n",
       "      <td>0.030754</td>\n",
       "    </tr>\n",
       "  </tbody>\n",
       "</table>\n",
       "</div>"
      ],
      "text/plain": [
       "    node  betweenness\n",
       "0     11     0.569989\n",
       "1      0     0.176842\n",
       "2     48     0.165113\n",
       "3     55     0.132032\n",
       "4     23     0.129645\n",
       "5     25     0.074901\n",
       "6     27     0.054332\n",
       "7     51     0.047599\n",
       "8     58     0.042553\n",
       "9     16     0.040629\n",
       "10    64     0.030754"
      ]
     },
     "metadata": {},
     "output_type": "display_data"
    },
    {
     "name": "stdout",
     "output_type": "stream",
     "text": [
      "None\n"
     ]
    }
   ],
   "source": [
    "#check betweenness\n",
    "nodes = []\n",
    "betweenness = []\n",
    "for i, j in sorted(nx.betweenness_centrality(g).iteritems(), key=lambda(k, v): (-v, k))[0:11]:\n",
    "    nodes.append(i)\n",
    "    betweenness.append(j)\n",
    "d = {\"node\":nodes, \"betweenness\": betweenness}\n",
    "data = pd.DataFrame(d)\n",
    "print display(data[[\"node\",\"betweenness\"]])"
   ]
  },
  {
   "cell_type": "code",
   "execution_count": 8,
   "metadata": {
    "collapsed": false
   },
   "outputs": [
    {
     "data": {
      "application/javascript": [
       "$(\"head\").append($(\"<link/>\").attr({\n",
       "  rel:  \"stylesheet\",\n",
       "  type: \"text/css\",\n",
       "  href: \"//cdnjs.cloudflare.com/ajax/libs/font-awesome/4.1.0/css/font-awesome.min.css\"\n",
       "}));\n",
       "$(\"head\").append($(\"<link/>\").attr({\n",
       "  rel:  \"stylesheet\",\n",
       "  type: \"text/css\",\n",
       "  href: \"https://static.turi.com/products/graphlab-create/2.1/canvas/css/canvas.css\"\n",
       "}));\n",
       "\n",
       "            (function(){\n",
       "\n",
       "                var e = null;\n",
       "                if (typeof element == 'undefined') {\n",
       "                    var scripts = document.getElementsByTagName('script');\n",
       "                    var thisScriptTag = scripts[scripts.length-1];\n",
       "                    var parentDiv = thisScriptTag.parentNode;\n",
       "                    e = document.createElement('div');\n",
       "                    parentDiv.appendChild(e);\n",
       "                } else {\n",
       "                    e = element[0];\n",
       "                }\n",
       "\n",
       "                if (typeof requirejs !== 'undefined') {\n",
       "                    // disable load timeout; ipython_app.js is large and can take a while to load.\n",
       "                    requirejs.config({waitSeconds: 0});\n",
       "                }\n",
       "\n",
       "                require(['https://static.turi.com/products/graphlab-create/2.1/canvas/js/ipython_app.js'], function(IPythonApp){\n",
       "                    var app = new IPythonApp();\n",
       "                    app.attachView('sgraph','View', {\"edges_labels\": null, \"selected_variable\": {\"name\": [\"powergraph\"], \"view_file\": \"sgraph\", \"view_component\": \"View\", \"view_params\": {\"elabel_hover\": false, \"vertex_positions\": null, \"h_offset\": 0.0, \"node_size\": 300, \"ecolor\": [0.37, 0.33, 0.33], \"elabel\": null, \"arrows\": false, \"ewidth\": 1, \"vlabel\": \"id\", \"highlight_color\": [[0.69, 0.0, 0.498], [0.69, 0.0, 0.498], [0.69, 0.0, 0.498], [0.69, 0.0, 0.498], [0.69, 0.0, 0.498], [0.69, 0.0, 0.498], [0.69, 0.0, 0.498], [0.69, 0.0, 0.498], [0.69, 0.0, 0.498], [0.69, 0.0, 0.498], [0.69, 0.0, 0.498]], \"vcolor\": [0.522, 0.741, 0.0], \"vlabel_hover\": false, \"highlight\": {\"0\": [0.69, 0.0, 0.498], \"64\": [0.69, 0.0, 0.498], \"48\": [0.69, 0.0, 0.498], \"11\": [0.69, 0.0, 0.498], \"16\": [0.69, 0.0, 0.498], \"51\": [0.69, 0.0, 0.498], \"23\": [0.69, 0.0, 0.498], \"25\": [0.69, 0.0, 0.498], \"58\": [0.69, 0.0, 0.498], \"27\": [0.69, 0.0, 0.498], \"55\": [0.69, 0.0, 0.498]}, \"v_offset\": 0.03}, \"view_components\": [\"View\"], \"type\": \"SGraph\", \"descriptives_links\": {\"edges\": \"edges\", \"vertices\": \"vertices\"}, \"descriptives\": {\"edges\": 254, \"vertices\": 77}}, \"positions\": null, \"error_type\": 0, \"vertices\": [73, 10, 8, 5, 47, 68, 33, 29, 70, 27, 50, 52, 7, 76, 67, 30, 65, 58, 63, 16, 34, 36, 23, 21, 56, 49, 61, 62, 15, 18, 37, 0, 43, 40, 38, 75, 13, 2, 35, 31, 26, 53, 48, 59, 46, 74, 72, 69, 9, 71, 51, 28, 32, 6, 54, 3, 25, 14, 12, 45, 64, 1, 60, 20, 19, 42, 41, 39, 57, 11, 66, 17, 4, 24, 22, 55, 44], \"vertices_labels\": [73, 10, 8, 5, 47, 68, 33, 29, 70, 27, 50, 52, 7, 76, 67, 30, 65, 58, 63, 16, 34, 36, 23, 21, 56, 49, 61, 62, 15, 18, 37, 0, 43, 40, 38, 75, 13, 2, 35, 31, 26, 53, 48, 59, 46, 74, 72, 69, 9, 71, 51, 28, 32, 6, 54, 3, 25, 14, 12, 45, 64, 1, 60, 20, 19, 42, 41, 39, 57, 11, 66, 17, 4, 24, 22, 55, 44], \"edges\": [[27, 33], [27, 68], [27, 70], [27, 29], [68, 70], [27, 58], [29, 34], [29, 36], [27, 43], [29, 37], [29, 38], [27, 48], [27, 31], [29, 35], [47, 48], [68, 75], [70, 75], [27, 69], [27, 71], [27, 72], [27, 28], [68, 69], [68, 71], [70, 71], [73, 74], [10, 11], [23, 27], [23, 29], [49, 50], [58, 70], [16, 21], [16, 23], [21, 23], [23, 30], [34, 36], [49, 56], [58, 65], [58, 76], [58, 63], [63, 65], [63, 76], [65, 76], [16, 18], [34, 37], [34, 38], [36, 37], [36, 38], [58, 61], [58, 62], [16, 26], [23, 31], [30, 31], [34, 35], [58, 59], [49, 51], [23, 25], [49, 54], [16, 19], [16, 20], [58, 64], [58, 60], [63, 64], [16, 55], [16, 17], [16, 22], [21, 22], [23, 24], [49, 55], [58, 66], [63, 66], [65, 66], [0, 5], [0, 7], [0, 8], [18, 21], [18, 23], [61, 65], [61, 63], [62, 65], [62, 76], [62, 63], [37, 38], [61, 62], [0, 2], [0, 6], [0, 9], [0, 3], [0, 1], [18, 19], [18, 20], [61, 64], [62, 64], [0, 4], [0, 11], [18, 22], [61, 66], [62, 66], [26, 27], [46, 47], [48, 68], [48, 73], [26, 49], [35, 36], [48, 58], [48, 63], [48, 65], [48, 76], [59, 65], [59, 63], [26, 43], [35, 37], [35, 38], [48, 61], [48, 62], [59, 61], [59, 62], [48, 59], [48, 75], [26, 72], [26, 51], [48, 69], [48, 71], [48, 74], [2, 3], [26, 54], [48, 60], [48, 64], [59, 64], [59, 60], [2, 11], [26, 55], [48, 55], [48, 57], [48, 66], [59, 66], [51, 52], [69, 70], [51, 53], [69, 75], [71, 75], [69, 71], [28, 45], [51, 54], [28, 44], [51, 55], [25, 68], [25, 70], [25, 27], [12, 23], [25, 40], [25, 48], [25, 75], [25, 26], [25, 71], [25, 69], [25, 39], [25, 41], [25, 42], [3, 11], [25, 55], [54, 55], [39, 52], [41, 68], [41, 70], [19, 21], [19, 23], [20, 21], [20, 23], [60, 65], [60, 63], [64, 65], [64, 76], [41, 62], [60, 61], [60, 62], [41, 75], [41, 69], [41, 71], [19, 20], [41, 42], [60, 64], [19, 22], [20, 22], [39, 55], [41, 55], [41, 57], [60, 66], [64, 66], [11, 27], [11, 29], [11, 33], [11, 68], [11, 70], [24, 68], [24, 70], [24, 50], [24, 27], [11, 23], [11, 34], [11, 36], [11, 49], [11, 58], [17, 21], [17, 23], [22, 23], [55, 65], [55, 56], [55, 58], [55, 63], [57, 65], [57, 67], [57, 58], [57, 63], [66, 76], [11, 15], [11, 37], [11, 38], [11, 43], [17, 18], [55, 61], [55, 62], [57, 61], [57, 62], [11, 13], [11, 26], [11, 31], [11, 35], [11, 48], [24, 26], [55, 59], [57, 59], [11, 28], [11, 32], [11, 51], [11, 69], [11, 71], [11, 72], [24, 69], [11, 12], [11, 14], [11, 25], [24, 25], [11, 64], [17, 19], [17, 20], [24, 41], [24, 42], [55, 64], [57, 64], [11, 24], [11, 44], [11, 55], [17, 22], [55, 57]], \"ipython\": true, \"error_msg\": \"\"}, e);\n",
       "                });\n",
       "            })();\n",
       "        "
      ]
     },
     "metadata": {},
     "output_type": "display_data"
    }
   ],
   "source": [
    "#Graph top ten betweenness nodes\n",
    "highlightlist = data['node'].tolist()\n",
    "powergraph.show(vlabel='id', highlight=highlightlist)"
   ]
  },
  {
   "cell_type": "code",
   "execution_count": 9,
   "metadata": {
    "collapsed": false
   },
   "outputs": [
    {
     "data": {
      "text/html": [
       "<div>\n",
       "<table border=\"1\" class=\"dataframe\">\n",
       "  <thead>\n",
       "    <tr style=\"text-align: right;\">\n",
       "      <th></th>\n",
       "      <th>node</th>\n",
       "      <th>pagerank</th>\n",
       "    </tr>\n",
       "  </thead>\n",
       "  <tbody>\n",
       "    <tr>\n",
       "      <th>0</th>\n",
       "      <td>11</td>\n",
       "      <td>0.075434</td>\n",
       "    </tr>\n",
       "    <tr>\n",
       "      <th>1</th>\n",
       "      <td>0</td>\n",
       "      <td>0.042803</td>\n",
       "    </tr>\n",
       "    <tr>\n",
       "      <th>2</th>\n",
       "      <td>48</td>\n",
       "      <td>0.035764</td>\n",
       "    </tr>\n",
       "    <tr>\n",
       "      <th>3</th>\n",
       "      <td>55</td>\n",
       "      <td>0.030893</td>\n",
       "    </tr>\n",
       "    <tr>\n",
       "      <th>4</th>\n",
       "      <td>27</td>\n",
       "      <td>0.030303</td>\n",
       "    </tr>\n",
       "    <tr>\n",
       "      <th>5</th>\n",
       "      <td>25</td>\n",
       "      <td>0.027926</td>\n",
       "    </tr>\n",
       "    <tr>\n",
       "      <th>6</th>\n",
       "      <td>23</td>\n",
       "      <td>0.027022</td>\n",
       "    </tr>\n",
       "    <tr>\n",
       "      <th>7</th>\n",
       "      <td>58</td>\n",
       "      <td>0.021880</td>\n",
       "    </tr>\n",
       "    <tr>\n",
       "      <th>8</th>\n",
       "      <td>26</td>\n",
       "      <td>0.020611</td>\n",
       "    </tr>\n",
       "    <tr>\n",
       "      <th>9</th>\n",
       "      <td>24</td>\n",
       "      <td>0.019501</td>\n",
       "    </tr>\n",
       "    <tr>\n",
       "      <th>10</th>\n",
       "      <td>64</td>\n",
       "      <td>0.018957</td>\n",
       "    </tr>\n",
       "  </tbody>\n",
       "</table>\n",
       "</div>"
      ],
      "text/plain": [
       "    node  pagerank\n",
       "0     11  0.075434\n",
       "1      0  0.042803\n",
       "2     48  0.035764\n",
       "3     55  0.030893\n",
       "4     27  0.030303\n",
       "5     25  0.027926\n",
       "6     23  0.027022\n",
       "7     58  0.021880\n",
       "8     26  0.020611\n",
       "9     24  0.019501\n",
       "10    64  0.018957"
      ]
     },
     "metadata": {},
     "output_type": "display_data"
    },
    {
     "name": "stdout",
     "output_type": "stream",
     "text": [
      "None\n"
     ]
    }
   ],
   "source": [
    "#check pagerank\n",
    "nodes = []\n",
    "pagerank = []\n",
    "for i, j in sorted(nx.pagerank(g).iteritems(), key=lambda(k, v): (-v, k))[0:11]:\n",
    "    nodes.append(i)\n",
    "    pagerank.append(j)\n",
    "d = {\"node\":nodes, \"pagerank\": pagerank}\n",
    "data = pd.DataFrame(d)\n",
    "print display(data[[\"node\",\"pagerank\"]])"
   ]
  },
  {
   "cell_type": "code",
   "execution_count": 10,
   "metadata": {
    "collapsed": false
   },
   "outputs": [
    {
     "data": {
      "application/javascript": [
       "$(\"head\").append($(\"<link/>\").attr({\n",
       "  rel:  \"stylesheet\",\n",
       "  type: \"text/css\",\n",
       "  href: \"//cdnjs.cloudflare.com/ajax/libs/font-awesome/4.1.0/css/font-awesome.min.css\"\n",
       "}));\n",
       "$(\"head\").append($(\"<link/>\").attr({\n",
       "  rel:  \"stylesheet\",\n",
       "  type: \"text/css\",\n",
       "  href: \"https://static.turi.com/products/graphlab-create/2.1/canvas/css/canvas.css\"\n",
       "}));\n",
       "\n",
       "            (function(){\n",
       "\n",
       "                var e = null;\n",
       "                if (typeof element == 'undefined') {\n",
       "                    var scripts = document.getElementsByTagName('script');\n",
       "                    var thisScriptTag = scripts[scripts.length-1];\n",
       "                    var parentDiv = thisScriptTag.parentNode;\n",
       "                    e = document.createElement('div');\n",
       "                    parentDiv.appendChild(e);\n",
       "                } else {\n",
       "                    e = element[0];\n",
       "                }\n",
       "\n",
       "                if (typeof requirejs !== 'undefined') {\n",
       "                    // disable load timeout; ipython_app.js is large and can take a while to load.\n",
       "                    requirejs.config({waitSeconds: 0});\n",
       "                }\n",
       "\n",
       "                require(['https://static.turi.com/products/graphlab-create/2.1/canvas/js/ipython_app.js'], function(IPythonApp){\n",
       "                    var app = new IPythonApp();\n",
       "                    app.attachView('sgraph','View', {\"edges_labels\": null, \"selected_variable\": {\"name\": [\"powergraph\"], \"view_file\": \"sgraph\", \"view_component\": \"View\", \"view_params\": {\"elabel_hover\": false, \"vertex_positions\": null, \"h_offset\": 0.0, \"node_size\": 300, \"ecolor\": [0.37, 0.33, 0.33], \"elabel\": null, \"arrows\": false, \"ewidth\": 1, \"vlabel\": \"id\", \"highlight_color\": [[0.69, 0.0, 0.498], [0.69, 0.0, 0.498], [0.69, 0.0, 0.498], [0.69, 0.0, 0.498], [0.69, 0.0, 0.498], [0.69, 0.0, 0.498], [0.69, 0.0, 0.498], [0.69, 0.0, 0.498], [0.69, 0.0, 0.498], [0.69, 0.0, 0.498], [0.69, 0.0, 0.498]], \"vcolor\": [0.522, 0.741, 0.0], \"vlabel_hover\": false, \"highlight\": {\"0\": [0.69, 0.0, 0.498], \"64\": [0.69, 0.0, 0.498], \"11\": [0.69, 0.0, 0.498], \"48\": [0.69, 0.0, 0.498], \"25\": [0.69, 0.0, 0.498], \"55\": [0.69, 0.0, 0.498], \"24\": [0.69, 0.0, 0.498], \"23\": [0.69, 0.0, 0.498], \"58\": [0.69, 0.0, 0.498], \"27\": [0.69, 0.0, 0.498], \"26\": [0.69, 0.0, 0.498]}, \"v_offset\": 0.03}, \"view_components\": [\"View\"], \"type\": \"SGraph\", \"descriptives_links\": {\"edges\": \"edges\", \"vertices\": \"vertices\"}, \"descriptives\": {\"edges\": 254, \"vertices\": 77}}, \"positions\": null, \"error_type\": 0, \"vertices\": [73, 10, 8, 5, 47, 68, 33, 29, 70, 27, 50, 52, 7, 76, 67, 30, 65, 58, 63, 16, 34, 36, 23, 21, 56, 49, 61, 62, 15, 18, 37, 0, 43, 40, 38, 75, 13, 2, 35, 31, 26, 53, 48, 59, 46, 74, 72, 69, 9, 71, 51, 28, 32, 6, 54, 3, 25, 14, 12, 45, 64, 1, 60, 20, 19, 42, 41, 39, 57, 11, 66, 17, 4, 24, 22, 55, 44], \"vertices_labels\": [73, 10, 8, 5, 47, 68, 33, 29, 70, 27, 50, 52, 7, 76, 67, 30, 65, 58, 63, 16, 34, 36, 23, 21, 56, 49, 61, 62, 15, 18, 37, 0, 43, 40, 38, 75, 13, 2, 35, 31, 26, 53, 48, 59, 46, 74, 72, 69, 9, 71, 51, 28, 32, 6, 54, 3, 25, 14, 12, 45, 64, 1, 60, 20, 19, 42, 41, 39, 57, 11, 66, 17, 4, 24, 22, 55, 44], \"edges\": [[27, 33], [27, 68], [27, 70], [27, 29], [68, 70], [27, 58], [29, 34], [29, 36], [27, 43], [29, 37], [29, 38], [27, 48], [27, 31], [29, 35], [47, 48], [68, 75], [70, 75], [27, 69], [27, 71], [27, 72], [27, 28], [68, 69], [68, 71], [70, 71], [73, 74], [10, 11], [23, 27], [23, 29], [49, 50], [58, 70], [16, 21], [16, 23], [21, 23], [23, 30], [34, 36], [49, 56], [58, 65], [58, 76], [58, 63], [63, 65], [63, 76], [65, 76], [16, 18], [34, 37], [34, 38], [36, 37], [36, 38], [58, 61], [58, 62], [16, 26], [23, 31], [30, 31], [34, 35], [58, 59], [49, 51], [23, 25], [49, 54], [16, 19], [16, 20], [58, 64], [58, 60], [63, 64], [16, 55], [16, 17], [16, 22], [21, 22], [23, 24], [49, 55], [58, 66], [63, 66], [65, 66], [0, 5], [0, 7], [0, 8], [18, 21], [18, 23], [61, 65], [61, 63], [62, 65], [62, 76], [62, 63], [37, 38], [61, 62], [0, 2], [0, 6], [0, 9], [0, 3], [0, 1], [18, 19], [18, 20], [61, 64], [62, 64], [0, 4], [0, 11], [18, 22], [61, 66], [62, 66], [26, 27], [46, 47], [48, 68], [48, 73], [26, 49], [35, 36], [48, 58], [48, 63], [48, 65], [48, 76], [59, 65], [59, 63], [26, 43], [35, 37], [35, 38], [48, 61], [48, 62], [59, 61], [59, 62], [48, 59], [48, 75], [26, 72], [26, 51], [48, 69], [48, 71], [48, 74], [2, 3], [26, 54], [48, 60], [48, 64], [59, 64], [59, 60], [2, 11], [26, 55], [48, 55], [48, 57], [48, 66], [59, 66], [51, 52], [69, 70], [51, 53], [69, 75], [71, 75], [69, 71], [28, 45], [51, 54], [28, 44], [51, 55], [25, 68], [25, 70], [25, 27], [12, 23], [25, 40], [25, 48], [25, 75], [25, 26], [25, 71], [25, 69], [25, 39], [25, 41], [25, 42], [3, 11], [25, 55], [54, 55], [39, 52], [41, 68], [41, 70], [19, 21], [19, 23], [20, 21], [20, 23], [60, 65], [60, 63], [64, 65], [64, 76], [41, 62], [60, 61], [60, 62], [41, 75], [41, 69], [41, 71], [19, 20], [41, 42], [60, 64], [19, 22], [20, 22], [39, 55], [41, 55], [41, 57], [60, 66], [64, 66], [11, 27], [11, 29], [11, 33], [11, 68], [11, 70], [24, 68], [24, 70], [24, 50], [24, 27], [11, 23], [11, 34], [11, 36], [11, 49], [11, 58], [17, 21], [17, 23], [22, 23], [55, 65], [55, 56], [55, 58], [55, 63], [57, 65], [57, 67], [57, 58], [57, 63], [66, 76], [11, 15], [11, 37], [11, 38], [11, 43], [17, 18], [55, 61], [55, 62], [57, 61], [57, 62], [11, 13], [11, 26], [11, 31], [11, 35], [11, 48], [24, 26], [55, 59], [57, 59], [11, 28], [11, 32], [11, 51], [11, 69], [11, 71], [11, 72], [24, 69], [11, 12], [11, 14], [11, 25], [24, 25], [11, 64], [17, 19], [17, 20], [24, 41], [24, 42], [55, 64], [57, 64], [11, 24], [11, 44], [11, 55], [17, 22], [55, 57]], \"ipython\": true, \"error_msg\": \"\"}, e);\n",
       "                });\n",
       "            })();\n",
       "        "
      ]
     },
     "metadata": {},
     "output_type": "display_data"
    }
   ],
   "source": [
    "#Graph top ten pagerank nodes\n",
    "highlightlist = data['node'].tolist()\n",
    "powergraph.show(vlabel='id', highlight=highlightlist)"
   ]
  },
  {
   "cell_type": "code",
   "execution_count": null,
   "metadata": {
    "collapsed": true
   },
   "outputs": [],
   "source": []
  }
 ],
 "metadata": {
  "kernelspec": {
   "display_name": "Python 2",
   "language": "python",
   "name": "python2"
  },
  "language_info": {
   "codemirror_mode": {
    "name": "ipython",
    "version": 2
   },
   "file_extension": ".py",
   "mimetype": "text/x-python",
   "name": "python",
   "nbconvert_exporter": "python",
   "pygments_lexer": "ipython2",
   "version": "2.7.11"
  }
 },
 "nbformat": 4,
 "nbformat_minor": 2
}
